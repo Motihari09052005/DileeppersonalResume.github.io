{
  "nbformat": 4,
  "nbformat_minor": 0,
  "metadata": {
    "colab": {
      "provenance": [],
      "authorship_tag": "ABX9TyO08PftP4T+ncQZfO97mbLg",
      "include_colab_link": true
    },
    "kernelspec": {
      "name": "python3",
      "display_name": "Python 3"
    },
    "language_info": {
      "name": "python"
    }
  },
  "cells": [
    {
      "cell_type": "markdown",
      "metadata": {
        "id": "view-in-github",
        "colab_type": "text"
      },
      "source": [
        "<a href=\"https://colab.research.google.com/github/Motihari09052005/DileeppersonalResume.github.io/blob/main/Untitled18.ipynb\" target=\"_parent\"><img src=\"https://colab.research.google.com/assets/colab-badge.svg\" alt=\"Open In Colab\"/></a>"
      ]
    },
    {
      "cell_type": "code",
      "execution_count": 1,
      "metadata": {
        "id": "siIqe-IjDLIC"
      },
      "outputs": [],
      "source": [
        "\n"
      ]
    },
    {
      "cell_type": "markdown",
      "source": [
        "# KNN ML\n"
      ],
      "metadata": {
        "id": "uOvUvG-VD1zG"
      }
    },
    {
      "cell_type": "code",
      "source": [
        "import numpy as np\n",
        "import pandas as pd\n",
        "import matplotlib.pyplot as plt"
      ],
      "metadata": {
        "id": "tse2zT98D62h"
      },
      "execution_count": 3,
      "outputs": []
    },
    {
      "cell_type": "code",
      "source": [],
      "metadata": {
        "id": "Fn_eFj4UECtE"
      },
      "execution_count": null,
      "outputs": []
    },
    {
      "cell_type": "code",
      "source": [
        "data=pd.read_csv('/content/bill_authentication.csv')\n",
        "data.head()"
      ],
      "metadata": {
        "colab": {
          "base_uri": "https://localhost:8080/",
          "height": 206
        },
        "id": "mYiT6qfGDjTN",
        "outputId": "dcb08e6b-d7fb-48c6-8392-3e83ea79dc8f"
      },
      "execution_count": 48,
      "outputs": [
        {
          "output_type": "execute_result",
          "data": {
            "text/plain": [
              "   Variance  Skewness  Curtosis  Entropy  Class\n",
              "0   3.62160    8.6661   -2.8073 -0.44699      0\n",
              "1   4.54590    8.1674   -2.4586 -1.46210      0\n",
              "2   3.86600   -2.6383    1.9242  0.10645      0\n",
              "3   3.45660    9.5228   -4.0112 -3.59440      0\n",
              "4   0.32924   -4.4552    4.5718 -0.98880      0"
            ],
            "text/html": [
              "\n",
              "  <div id=\"df-3e031b76-57eb-4b4a-b813-8bed6f342480\" class=\"colab-df-container\">\n",
              "    <div>\n",
              "<style scoped>\n",
              "    .dataframe tbody tr th:only-of-type {\n",
              "        vertical-align: middle;\n",
              "    }\n",
              "\n",
              "    .dataframe tbody tr th {\n",
              "        vertical-align: top;\n",
              "    }\n",
              "\n",
              "    .dataframe thead th {\n",
              "        text-align: right;\n",
              "    }\n",
              "</style>\n",
              "<table border=\"1\" class=\"dataframe\">\n",
              "  <thead>\n",
              "    <tr style=\"text-align: right;\">\n",
              "      <th></th>\n",
              "      <th>Variance</th>\n",
              "      <th>Skewness</th>\n",
              "      <th>Curtosis</th>\n",
              "      <th>Entropy</th>\n",
              "      <th>Class</th>\n",
              "    </tr>\n",
              "  </thead>\n",
              "  <tbody>\n",
              "    <tr>\n",
              "      <th>0</th>\n",
              "      <td>3.62160</td>\n",
              "      <td>8.6661</td>\n",
              "      <td>-2.8073</td>\n",
              "      <td>-0.44699</td>\n",
              "      <td>0</td>\n",
              "    </tr>\n",
              "    <tr>\n",
              "      <th>1</th>\n",
              "      <td>4.54590</td>\n",
              "      <td>8.1674</td>\n",
              "      <td>-2.4586</td>\n",
              "      <td>-1.46210</td>\n",
              "      <td>0</td>\n",
              "    </tr>\n",
              "    <tr>\n",
              "      <th>2</th>\n",
              "      <td>3.86600</td>\n",
              "      <td>-2.6383</td>\n",
              "      <td>1.9242</td>\n",
              "      <td>0.10645</td>\n",
              "      <td>0</td>\n",
              "    </tr>\n",
              "    <tr>\n",
              "      <th>3</th>\n",
              "      <td>3.45660</td>\n",
              "      <td>9.5228</td>\n",
              "      <td>-4.0112</td>\n",
              "      <td>-3.59440</td>\n",
              "      <td>0</td>\n",
              "    </tr>\n",
              "    <tr>\n",
              "      <th>4</th>\n",
              "      <td>0.32924</td>\n",
              "      <td>-4.4552</td>\n",
              "      <td>4.5718</td>\n",
              "      <td>-0.98880</td>\n",
              "      <td>0</td>\n",
              "    </tr>\n",
              "  </tbody>\n",
              "</table>\n",
              "</div>\n",
              "    <div class=\"colab-df-buttons\">\n",
              "\n",
              "  <div class=\"colab-df-container\">\n",
              "    <button class=\"colab-df-convert\" onclick=\"convertToInteractive('df-3e031b76-57eb-4b4a-b813-8bed6f342480')\"\n",
              "            title=\"Convert this dataframe to an interactive table.\"\n",
              "            style=\"display:none;\">\n",
              "\n",
              "  <svg xmlns=\"http://www.w3.org/2000/svg\" height=\"24px\" viewBox=\"0 -960 960 960\">\n",
              "    <path d=\"M120-120v-720h720v720H120Zm60-500h600v-160H180v160Zm220 220h160v-160H400v160Zm0 220h160v-160H400v160ZM180-400h160v-160H180v160Zm440 0h160v-160H620v160ZM180-180h160v-160H180v160Zm440 0h160v-160H620v160Z\"/>\n",
              "  </svg>\n",
              "    </button>\n",
              "\n",
              "  <style>\n",
              "    .colab-df-container {\n",
              "      display:flex;\n",
              "      gap: 12px;\n",
              "    }\n",
              "\n",
              "    .colab-df-convert {\n",
              "      background-color: #E8F0FE;\n",
              "      border: none;\n",
              "      border-radius: 50%;\n",
              "      cursor: pointer;\n",
              "      display: none;\n",
              "      fill: #1967D2;\n",
              "      height: 32px;\n",
              "      padding: 0 0 0 0;\n",
              "      width: 32px;\n",
              "    }\n",
              "\n",
              "    .colab-df-convert:hover {\n",
              "      background-color: #E2EBFA;\n",
              "      box-shadow: 0px 1px 2px rgba(60, 64, 67, 0.3), 0px 1px 3px 1px rgba(60, 64, 67, 0.15);\n",
              "      fill: #174EA6;\n",
              "    }\n",
              "\n",
              "    .colab-df-buttons div {\n",
              "      margin-bottom: 4px;\n",
              "    }\n",
              "\n",
              "    [theme=dark] .colab-df-convert {\n",
              "      background-color: #3B4455;\n",
              "      fill: #D2E3FC;\n",
              "    }\n",
              "\n",
              "    [theme=dark] .colab-df-convert:hover {\n",
              "      background-color: #434B5C;\n",
              "      box-shadow: 0px 1px 3px 1px rgba(0, 0, 0, 0.15);\n",
              "      filter: drop-shadow(0px 1px 2px rgba(0, 0, 0, 0.3));\n",
              "      fill: #FFFFFF;\n",
              "    }\n",
              "  </style>\n",
              "\n",
              "    <script>\n",
              "      const buttonEl =\n",
              "        document.querySelector('#df-3e031b76-57eb-4b4a-b813-8bed6f342480 button.colab-df-convert');\n",
              "      buttonEl.style.display =\n",
              "        google.colab.kernel.accessAllowed ? 'block' : 'none';\n",
              "\n",
              "      async function convertToInteractive(key) {\n",
              "        const element = document.querySelector('#df-3e031b76-57eb-4b4a-b813-8bed6f342480');\n",
              "        const dataTable =\n",
              "          await google.colab.kernel.invokeFunction('convertToInteractive',\n",
              "                                                    [key], {});\n",
              "        if (!dataTable) return;\n",
              "\n",
              "        const docLinkHtml = 'Like what you see? Visit the ' +\n",
              "          '<a target=\"_blank\" href=https://colab.research.google.com/notebooks/data_table.ipynb>data table notebook</a>'\n",
              "          + ' to learn more about interactive tables.';\n",
              "        element.innerHTML = '';\n",
              "        dataTable['output_type'] = 'display_data';\n",
              "        await google.colab.output.renderOutput(dataTable, element);\n",
              "        const docLink = document.createElement('div');\n",
              "        docLink.innerHTML = docLinkHtml;\n",
              "        element.appendChild(docLink);\n",
              "      }\n",
              "    </script>\n",
              "  </div>\n",
              "\n",
              "\n",
              "<div id=\"df-5e76ad86-c3a4-495c-826b-2f6196372259\">\n",
              "  <button class=\"colab-df-quickchart\" onclick=\"quickchart('df-5e76ad86-c3a4-495c-826b-2f6196372259')\"\n",
              "            title=\"Suggest charts\"\n",
              "            style=\"display:none;\">\n",
              "\n",
              "<svg xmlns=\"http://www.w3.org/2000/svg\" height=\"24px\"viewBox=\"0 0 24 24\"\n",
              "     width=\"24px\">\n",
              "    <g>\n",
              "        <path d=\"M19 3H5c-1.1 0-2 .9-2 2v14c0 1.1.9 2 2 2h14c1.1 0 2-.9 2-2V5c0-1.1-.9-2-2-2zM9 17H7v-7h2v7zm4 0h-2V7h2v10zm4 0h-2v-4h2v4z\"/>\n",
              "    </g>\n",
              "</svg>\n",
              "  </button>\n",
              "\n",
              "<style>\n",
              "  .colab-df-quickchart {\n",
              "      --bg-color: #E8F0FE;\n",
              "      --fill-color: #1967D2;\n",
              "      --hover-bg-color: #E2EBFA;\n",
              "      --hover-fill-color: #174EA6;\n",
              "      --disabled-fill-color: #AAA;\n",
              "      --disabled-bg-color: #DDD;\n",
              "  }\n",
              "\n",
              "  [theme=dark] .colab-df-quickchart {\n",
              "      --bg-color: #3B4455;\n",
              "      --fill-color: #D2E3FC;\n",
              "      --hover-bg-color: #434B5C;\n",
              "      --hover-fill-color: #FFFFFF;\n",
              "      --disabled-bg-color: #3B4455;\n",
              "      --disabled-fill-color: #666;\n",
              "  }\n",
              "\n",
              "  .colab-df-quickchart {\n",
              "    background-color: var(--bg-color);\n",
              "    border: none;\n",
              "    border-radius: 50%;\n",
              "    cursor: pointer;\n",
              "    display: none;\n",
              "    fill: var(--fill-color);\n",
              "    height: 32px;\n",
              "    padding: 0;\n",
              "    width: 32px;\n",
              "  }\n",
              "\n",
              "  .colab-df-quickchart:hover {\n",
              "    background-color: var(--hover-bg-color);\n",
              "    box-shadow: 0 1px 2px rgba(60, 64, 67, 0.3), 0 1px 3px 1px rgba(60, 64, 67, 0.15);\n",
              "    fill: var(--button-hover-fill-color);\n",
              "  }\n",
              "\n",
              "  .colab-df-quickchart-complete:disabled,\n",
              "  .colab-df-quickchart-complete:disabled:hover {\n",
              "    background-color: var(--disabled-bg-color);\n",
              "    fill: var(--disabled-fill-color);\n",
              "    box-shadow: none;\n",
              "  }\n",
              "\n",
              "  .colab-df-spinner {\n",
              "    border: 2px solid var(--fill-color);\n",
              "    border-color: transparent;\n",
              "    border-bottom-color: var(--fill-color);\n",
              "    animation:\n",
              "      spin 1s steps(1) infinite;\n",
              "  }\n",
              "\n",
              "  @keyframes spin {\n",
              "    0% {\n",
              "      border-color: transparent;\n",
              "      border-bottom-color: var(--fill-color);\n",
              "      border-left-color: var(--fill-color);\n",
              "    }\n",
              "    20% {\n",
              "      border-color: transparent;\n",
              "      border-left-color: var(--fill-color);\n",
              "      border-top-color: var(--fill-color);\n",
              "    }\n",
              "    30% {\n",
              "      border-color: transparent;\n",
              "      border-left-color: var(--fill-color);\n",
              "      border-top-color: var(--fill-color);\n",
              "      border-right-color: var(--fill-color);\n",
              "    }\n",
              "    40% {\n",
              "      border-color: transparent;\n",
              "      border-right-color: var(--fill-color);\n",
              "      border-top-color: var(--fill-color);\n",
              "    }\n",
              "    60% {\n",
              "      border-color: transparent;\n",
              "      border-right-color: var(--fill-color);\n",
              "    }\n",
              "    80% {\n",
              "      border-color: transparent;\n",
              "      border-right-color: var(--fill-color);\n",
              "      border-bottom-color: var(--fill-color);\n",
              "    }\n",
              "    90% {\n",
              "      border-color: transparent;\n",
              "      border-bottom-color: var(--fill-color);\n",
              "    }\n",
              "  }\n",
              "</style>\n",
              "\n",
              "  <script>\n",
              "    async function quickchart(key) {\n",
              "      const quickchartButtonEl =\n",
              "        document.querySelector('#' + key + ' button');\n",
              "      quickchartButtonEl.disabled = true;  // To prevent multiple clicks.\n",
              "      quickchartButtonEl.classList.add('colab-df-spinner');\n",
              "      try {\n",
              "        const charts = await google.colab.kernel.invokeFunction(\n",
              "            'suggestCharts', [key], {});\n",
              "      } catch (error) {\n",
              "        console.error('Error during call to suggestCharts:', error);\n",
              "      }\n",
              "      quickchartButtonEl.classList.remove('colab-df-spinner');\n",
              "      quickchartButtonEl.classList.add('colab-df-quickchart-complete');\n",
              "    }\n",
              "    (() => {\n",
              "      let quickchartButtonEl =\n",
              "        document.querySelector('#df-5e76ad86-c3a4-495c-826b-2f6196372259 button');\n",
              "      quickchartButtonEl.style.display =\n",
              "        google.colab.kernel.accessAllowed ? 'block' : 'none';\n",
              "    })();\n",
              "  </script>\n",
              "</div>\n",
              "\n",
              "    </div>\n",
              "  </div>\n"
            ],
            "application/vnd.google.colaboratory.intrinsic+json": {
              "type": "dataframe",
              "variable_name": "data",
              "summary": "{\n  \"name\": \"data\",\n  \"rows\": 1372,\n  \"fields\": [\n    {\n      \"column\": \"Variance\",\n      \"properties\": {\n        \"dtype\": \"number\",\n        \"std\": 2.8427625862785617,\n        \"min\": -7.0421,\n        \"max\": 6.8248,\n        \"num_unique_values\": 1338,\n        \"samples\": [\n          -2.286,\n          -0.539,\n          0.89512\n        ],\n        \"semantic_type\": \"\",\n        \"description\": \"\"\n      }\n    },\n    {\n      \"column\": \"Skewness\",\n      \"properties\": {\n        \"dtype\": \"number\",\n        \"std\": 5.869046743695517,\n        \"min\": -13.7731,\n        \"max\": 12.9516,\n        \"num_unique_values\": 1256,\n        \"samples\": [\n          11.2217,\n          -4.6145,\n          6.1499\n        ],\n        \"semantic_type\": \"\",\n        \"description\": \"\"\n      }\n    },\n    {\n      \"column\": \"Curtosis\",\n      \"properties\": {\n        \"dtype\": \"number\",\n        \"std\": 4.310030090106596,\n        \"min\": -5.2861,\n        \"max\": 17.9274,\n        \"num_unique_values\": 1270,\n        \"samples\": [\n          7.8981,\n          9.8208,\n          0.20021\n        ],\n        \"semantic_type\": \"\",\n        \"description\": \"\"\n      }\n    },\n    {\n      \"column\": \"Entropy\",\n      \"properties\": {\n        \"dtype\": \"number\",\n        \"std\": 2.10101313735961,\n        \"min\": -8.5482,\n        \"max\": 2.4495,\n        \"num_unique_values\": 1156,\n        \"samples\": [\n          1.0271,\n          0.90946,\n          -0.026738\n        ],\n        \"semantic_type\": \"\",\n        \"description\": \"\"\n      }\n    },\n    {\n      \"column\": \"Class\",\n      \"properties\": {\n        \"dtype\": \"number\",\n        \"std\": 0,\n        \"min\": 0,\n        \"max\": 1,\n        \"num_unique_values\": 2,\n        \"samples\": [\n          1,\n          0\n        ],\n        \"semantic_type\": \"\",\n        \"description\": \"\"\n      }\n    }\n  ]\n}"
            }
          },
          "metadata": {},
          "execution_count": 48
        }
      ]
    },
    {
      "cell_type": "code",
      "source": [
        "data.iloc[:,2:4].values"
      ],
      "metadata": {
        "colab": {
          "base_uri": "https://localhost:8080/"
        },
        "id": "8IbB9VPYDvw4",
        "outputId": "b252fd2f-5230-41cf-d37b-809d6f79ac44"
      },
      "execution_count": 49,
      "outputs": [
        {
          "output_type": "execute_result",
          "data": {
            "text/plain": [
              "array([[-2.8073 , -0.44699],\n",
              "       [-2.4586 , -1.4621 ],\n",
              "       [ 1.9242 ,  0.10645],\n",
              "       ...,\n",
              "       [17.5932 , -2.7771 ],\n",
              "       [12.393  , -1.2823 ],\n",
              "       [ 2.6842 ,  1.1952 ]])"
            ]
          },
          "metadata": {},
          "execution_count": 49
        }
      ]
    },
    {
      "cell_type": "markdown",
      "source": [],
      "metadata": {
        "id": "DKinnm65DyCs"
      }
    },
    {
      "cell_type": "code",
      "source": [
        "data.shape"
      ],
      "metadata": {
        "colab": {
          "base_uri": "https://localhost:8080/"
        },
        "id": "IU99mPCWDyya",
        "outputId": "206315ef-cca5-4704-f84d-39b6f036f17e"
      },
      "execution_count": 52,
      "outputs": [
        {
          "output_type": "execute_result",
          "data": {
            "text/plain": [
              "(1372, 5)"
            ]
          },
          "metadata": {},
          "execution_count": 52
        }
      ]
    },
    {
      "cell_type": "code",
      "source": [
        "data.iloc[:,-1].values"
      ],
      "metadata": {
        "colab": {
          "base_uri": "https://localhost:8080/"
        },
        "id": "FGmsxHkZEvBx",
        "outputId": "702373b9-7251-48b4-a63b-8f8cd8c68db6"
      },
      "execution_count": 53,
      "outputs": [
        {
          "output_type": "execute_result",
          "data": {
            "text/plain": [
              "array([0, 0, 0, ..., 1, 1, 1])"
            ]
          },
          "metadata": {},
          "execution_count": 53
        }
      ]
    },
    {
      "cell_type": "code",
      "source": [
        "X=data.iloc[:,2:4].values"
      ],
      "metadata": {
        "id": "qpv_1_BZE3qf"
      },
      "execution_count": 54,
      "outputs": []
    },
    {
      "cell_type": "code",
      "source": [
        "X.shape"
      ],
      "metadata": {
        "colab": {
          "base_uri": "https://localhost:8080/"
        },
        "id": "1q1XpqS4FbWS",
        "outputId": "49fbd961-40de-4ada-839f-1c591c00fec6"
      },
      "execution_count": 55,
      "outputs": [
        {
          "output_type": "execute_result",
          "data": {
            "text/plain": [
              "(1372, 2)"
            ]
          },
          "metadata": {},
          "execution_count": 55
        }
      ]
    },
    {
      "cell_type": "code",
      "source": [
        "y=data.iloc[:,-1].values"
      ],
      "metadata": {
        "id": "ADGsB9rCFwCj"
      },
      "execution_count": 56,
      "outputs": []
    },
    {
      "cell_type": "code",
      "source": [
        "y"
      ],
      "metadata": {
        "colab": {
          "base_uri": "https://localhost:8080/"
        },
        "id": "cw6FDa4aF1in",
        "outputId": "52c37bf2-0525-40df-b207-2c28e5708291"
      },
      "execution_count": 57,
      "outputs": [
        {
          "output_type": "execute_result",
          "data": {
            "text/plain": [
              "array([0, 0, 0, ..., 1, 1, 1])"
            ]
          },
          "metadata": {},
          "execution_count": 57
        }
      ]
    },
    {
      "cell_type": "code",
      "source": [],
      "metadata": {
        "id": "_4gNDRV6F20W"
      },
      "execution_count": 57,
      "outputs": []
    },
    {
      "cell_type": "code",
      "source": [],
      "metadata": {
        "id": "X3rd-d6iF-ne"
      },
      "execution_count": 57,
      "outputs": []
    },
    {
      "cell_type": "code",
      "source": [
        "y.shape"
      ],
      "metadata": {
        "colab": {
          "base_uri": "https://localhost:8080/"
        },
        "id": "eG1xqc4XGAgI",
        "outputId": "59eb638a-793a-4eab-d561-a0ba561fbcb9"
      },
      "execution_count": 58,
      "outputs": [
        {
          "output_type": "execute_result",
          "data": {
            "text/plain": [
              "(1372,)"
            ]
          },
          "metadata": {},
          "execution_count": 58
        }
      ]
    },
    {
      "cell_type": "code",
      "source": [
        "from sklearn.model_selection import train_test_split\n",
        "X_train,X_test,y_train,y_test=train_test_split(X,y,test_size=0.20)\n"
      ],
      "metadata": {
        "id": "EOB4TNpvGFDP"
      },
      "execution_count": 59,
      "outputs": []
    },
    {
      "cell_type": "code",
      "source": [
        "X_train"
      ],
      "metadata": {
        "colab": {
          "base_uri": "https://localhost:8080/"
        },
        "id": "cAc-p81vGdVQ",
        "outputId": "62471ead-5230-4ccb-b396-75b0b3d15587"
      },
      "execution_count": 60,
      "outputs": [
        {
          "output_type": "execute_result",
          "data": {
            "text/plain": [
              "array([[-4.2931 , -3.8142 ],\n",
              "       [-0.822  , -0.12243],\n",
              "       [-0.99337, -0.53104],\n",
              "       ...,\n",
              "       [ 2.1144 ,  0.42067],\n",
              "       [-2.7473 , -1.9353 ],\n",
              "       [ 4.2265 ,  0.81377]])"
            ]
          },
          "metadata": {},
          "execution_count": 60
        }
      ]
    },
    {
      "cell_type": "code",
      "source": [
        "X_train.shape"
      ],
      "metadata": {
        "colab": {
          "base_uri": "https://localhost:8080/"
        },
        "id": "WkgBOEspGfMl",
        "outputId": "d27dea14-ea77-4f17-968f-c9c2c1c3a238"
      },
      "execution_count": 61,
      "outputs": [
        {
          "output_type": "execute_result",
          "data": {
            "text/plain": [
              "(1097, 2)"
            ]
          },
          "metadata": {},
          "execution_count": 61
        }
      ]
    },
    {
      "cell_type": "code",
      "source": [
        "X_test"
      ],
      "metadata": {
        "colab": {
          "base_uri": "https://localhost:8080/"
        },
        "id": "Gv0oJ6kGGlOv",
        "outputId": "72e25e46-46db-46c9-85e4-6542643e2aa7"
      },
      "execution_count": 62,
      "outputs": [
        {
          "output_type": "execute_result",
          "data": {
            "text/plain": [
              "array([[ 5.45520e+00, -5.69840e-01],\n",
              "       [-5.76990e-02, -7.10250e+00],\n",
              "       [ 4.57180e+00, -9.88800e-01],\n",
              "       [-2.98120e+00, -1.04310e+00],\n",
              "       [ 8.13200e+00, -2.40100e-01],\n",
              "       [-4.07880e+00, -4.36640e+00],\n",
              "       [-1.49380e+00, -1.15820e+00],\n",
              "       [-3.12180e-01, -6.77540e+00],\n",
              "       [-3.80810e+00, -3.36420e+00],\n",
              "       [ 8.80540e+00,  1.52890e+00],\n",
              "       [ 5.96930e-01,  7.98250e-01],\n",
              "       [ 5.86990e+00,  1.21200e+00],\n",
              "       [ 3.36620e+00, -2.93240e-02],\n",
              "       [ 7.70100e+00,  6.26270e-01],\n",
              "       [-5.21330e+00, -6.10430e+00],\n",
              "       [ 7.72580e-01, -9.97850e-01],\n",
              "       [ 3.82810e+00,  1.62970e+00],\n",
              "       [-2.42600e+00, -1.88620e+00],\n",
              "       [ 8.90820e-01,  1.18230e+00],\n",
              "       [-1.64110e+00, -1.92250e-01],\n",
              "       [ 1.85640e-01, -1.09100e+00],\n",
              "       [-4.91940e+00, -5.81980e+00],\n",
              "       [ 7.62300e-01,  8.11190e-01],\n",
              "       [ 7.89290e+00,  9.67650e-01],\n",
              "       [-3.54170e-01,  4.74980e-01],\n",
              "       [ 8.35980e-01,  6.49550e-01],\n",
              "       [ 5.36900e-02, -2.31050e-01],\n",
              "       [ 1.71250e+00,  4.14210e-01],\n",
              "       [ 1.92420e+00,  1.06450e-01],\n",
              "       [ 4.73550e+00, -2.77600e-01],\n",
              "       [-3.19540e+00,  1.28430e-01],\n",
              "       [ 1.03846e+01, -1.06120e+00],\n",
              "       [-4.44990e-01, -1.49050e+00],\n",
              "       [ 1.53940e-01, -3.11080e+00],\n",
              "       [-3.39170e+00, -1.54740e+00],\n",
              "       [ 6.21090e+00,  3.97400e-01],\n",
              "       [ 1.12730e+00,  1.60760e-01],\n",
              "       [ 1.30980e+00,  5.65500e-01],\n",
              "       [-2.56050e+00, -1.49050e+00],\n",
              "       [ 4.39190e+00,  3.21100e-01],\n",
              "       [ 5.67030e+00, -1.35090e+00],\n",
              "       [ 7.96320e+00,  2.06020e-01],\n",
              "       [-3.04640e+00, -1.26290e+00],\n",
              "       [-3.90320e+00, -3.34870e+00],\n",
              "       [ 3.82980e+00,  1.02330e+00],\n",
              "       [ 6.28630e-01, -1.15950e+00],\n",
              "       [ 3.82550e+00, -1.25260e+00],\n",
              "       [-2.95120e+00, -6.61650e-01],\n",
              "       [-1.87940e-01,  2.34470e-01],\n",
              "       [ 8.99990e+00,  2.13530e+00],\n",
              "       [ 8.21420e+00, -2.06590e+00],\n",
              "       [ 1.33470e+00,  1.37630e+00],\n",
              "       [ 2.01330e+00,  2.05640e+00],\n",
              "       [-2.23060e+00, -6.65530e-01],\n",
              "       [-3.58450e-01, -3.90470e+00],\n",
              "       [ 1.09380e-01, -7.56420e+00],\n",
              "       [-2.01560e+00, -6.55310e-02],\n",
              "       [-2.46200e-01,  4.56880e-01],\n",
              "       [ 4.64290e+00, -2.95700e-01],\n",
              "       [ 3.92490e+00,  1.25850e-01],\n",
              "       [-5.77800e-01, -2.23020e+00],\n",
              "       [-2.52280e+00, -8.99580e-01],\n",
              "       [ 1.29100e+00,  1.65560e+00],\n",
              "       [ 1.98330e+00, -4.48290e-01],\n",
              "       [-2.05410e+00, -3.15080e+00],\n",
              "       [ 3.55730e+00,  2.68090e-01],\n",
              "       [-1.94020e+00,  4.40070e-01],\n",
              "       [ 5.35500e+00,  8.04720e-01],\n",
              "       [ 6.10300e+00,  6.52140e-01],\n",
              "       [ 2.13840e+00,  7.54290e-01],\n",
              "       [-1.11680e-01, -5.86650e-01],\n",
              "       [-2.23840e+00,  4.38780e-01],\n",
              "       [ 2.11950e+00,  1.44480e+00],\n",
              "       [ 7.72670e+00,  9.09460e-01],\n",
              "       [ 9.79420e+00, -2.80180e-01],\n",
              "       [-3.17830e+00, -3.00860e+00],\n",
              "       [ 5.84080e+00,  6.23690e-01],\n",
              "       [ 1.34580e+00, -3.70830e-02],\n",
              "       [ 1.09470e+00,  8.86190e-01],\n",
              "       [ 6.56900e-01, -2.95700e-01],\n",
              "       [-3.14660e+00, -3.97840e+00],\n",
              "       [-1.03970e-01, -1.92250e-01],\n",
              "       [-1.68230e+00,  5.95240e-01],\n",
              "       [ 1.19552e+01, -2.16030e+00],\n",
              "       [ 6.80900e-01, -1.08710e+00],\n",
              "       [-1.16050e+00, -1.23710e+00],\n",
              "       [ 3.30800e+00,  4.89210e-01],\n",
              "       [ 2.86840e+00,  2.77140e-01],\n",
              "       [ 2.60190e-01, -2.05300e+00],\n",
              "       [ 2.04500e+00, -1.93550e-01],\n",
              "       [ 3.88030e+00, -7.04320e-01],\n",
              "       [-5.13620e+00, -3.23620e+00],\n",
              "       [-3.54210e-02, -2.50950e+00],\n",
              "       [ 3.71150e+00,  9.97390e-01],\n",
              "       [ 2.63020e+00,  1.10470e+00],\n",
              "       [ 4.63690e+00,  1.42020e+00],\n",
              "       [ 7.12600e-01, -3.33200e-01],\n",
              "       [ 7.91860e+00, -1.54870e+00],\n",
              "       [ 1.18678e+01, -5.78890e-01],\n",
              "       [ 8.47560e+00, -1.87330e+00],\n",
              "       [ 5.54040e-02,  1.90900e+00],\n",
              "       [ 3.34910e+00, -4.92250e-01],\n",
              "       [-4.17220e+00, -4.75820e+00],\n",
              "       [ 6.78070e+00,  3.41790e-01],\n",
              "       [-9.40240e-01,  6.49550e-01],\n",
              "       [-2.89040e+00, -5.27160e-01],\n",
              "       [-8.40850e-01,  9.61180e-01],\n",
              "       [-4.25360e+00, -4.00300e+00],\n",
              "       [-2.99410e+00, -1.30820e+00],\n",
              "       [-3.25110e+00, -1.56940e+00],\n",
              "       [-6.19790e-01,  3.85760e-01],\n",
              "       [-2.40370e+00, -6.16520e-02],\n",
              "       [-7.12320e-01, -8.38800e-01],\n",
              "       [ 4.46980e-01,  9.98680e-01],\n",
              "       [ 1.37490e+00,  1.35690e+00],\n",
              "       [ 5.75680e+00,  8.73250e-01],\n",
              "       [-1.40290e+00, -3.91510e+00],\n",
              "       [-9.54000e-02,  5.64210e-01],\n",
              "       [ 4.64290e+00, -2.95700e-01],\n",
              "       [-1.96510e-01, -2.18880e+00],\n",
              "       [ 3.08350e+00, -5.44350e+00],\n",
              "       [ 6.67190e-01, -9.47420e-01],\n",
              "       [ 4.04400e+00,  9.53430e-01],\n",
              "       [ 2.00210e-01, -5.64790e-02],\n",
              "       [ 2.51880e+00, -1.70270e-01],\n",
              "       [-1.66430e+00, -1.83840e+00],\n",
              "       [ 2.87530e+00,  8.70540e-02],\n",
              "       [-3.48160e+00, -2.78360e+00],\n",
              "       [ 2.25580e+00, -1.57340e-01],\n",
              "       [-1.36870e+00, -1.78530e+00],\n",
              "       [-9.82230e-01,  4.28430e-01],\n",
              "       [-1.06710e+00,  7.54160e-02],\n",
              "       [ 1.07402e+01, -1.01720e+00],\n",
              "       [-9.35100e-01, -2.43320e+00],\n",
              "       [ 1.16930e+00,  1.68920e+00],\n",
              "       [-4.92880e+00, -5.23660e+00],\n",
              "       [-1.72520e-01, -6.95900e+00],\n",
              "       [ 3.98230e+00, -2.37510e-01],\n",
              "       [-1.78590e+00, -2.20690e+00],\n",
              "       [-1.23410e+00, -1.56680e+00],\n",
              "       [ 1.80760e+00,  8.97820e-01],\n",
              "       [ 1.77850e+00, -4.71560e-01],\n",
              "       [ 7.72150e+00,  4.53000e-01],\n",
              "       [-4.04720e-01, -7.87190e+00],\n",
              "       [ 7.29740e-01, -1.48920e+00],\n",
              "       [ 5.07810e-01, -3.81550e+00],\n",
              "       [ 3.43560e+00, -5.77600e-01],\n",
              "       [-1.82800e-01, -2.40990e+00],\n",
              "       [-1.69170e+00, -4.39220e+00],\n",
              "       [-2.33860e+00, -7.56040e-01],\n",
              "       [ 1.70834e+01, -3.03450e+00],\n",
              "       [-7.93720e-01,  4.84030e-01],\n",
              "       [-1.95650e-01,  6.63650e-02],\n",
              "       [ 1.86500e-01, -2.44090e+00],\n",
              "       [ 3.11430e+00, -3.71990e-01],\n",
              "       [ 8.35730e+00, -1.52160e+00],\n",
              "       [ 9.22480e-02,  5.81020e-01],\n",
              "       [-3.48590e+00, -3.55690e+00],\n",
              "       [ 8.08570e-01,  4.33600e-01],\n",
              "       [-1.33100e+00, -5.47070e+00],\n",
              "       [-2.59050e+00, -3.65530e-01],\n",
              "       [ 4.26250e+00,  1.15770e+00],\n",
              "       [ 1.07420e+00, -3.34090e+00],\n",
              "       [ 1.24547e+01, -1.43750e+00],\n",
              "       [ 6.89460e-01, -4.63800e-01],\n",
              "       [ 7.19030e+00, -6.75870e-01],\n",
              "       [ 1.00830e+01,  9.67650e-01],\n",
              "       [ 2.64910e+00,  4.73690e-01],\n",
              "       [-7.84300e-01, -2.19780e+00],\n",
              "       [ 4.53670e+00,  1.38660e+00],\n",
              "       [ 1.48881e+01, -4.70270e-01],\n",
              "       [ 4.74660e+00,  1.13700e+00],\n",
              "       [ 9.57660e+00, -7.30180e-01],\n",
              "       [-3.84150e-01, -3.86080e+00],\n",
              "       [ 1.52150e+00,  9.03000e-01],\n",
              "       [-2.40890e+00, -1.38840e+00],\n",
              "       [ 2.59760e+00,  5.52570e-01],\n",
              "       [-2.87330e-01,  1.46540e-01],\n",
              "       [ 1.45630e+00,  6.53430e-01],\n",
              "       [ 3.80240e+00, -1.50870e-01],\n",
              "       [-3.60670e+00, -3.44570e+00],\n",
              "       [ 6.61190e-01,  3.41790e-01],\n",
              "       [ 1.09390e+01, -4.08200e-01],\n",
              "       [ 9.75650e-01,  4.56750e-02],\n",
              "       [-4.27590e+00, -4.97800e+00],\n",
              "       [ 1.93790e+00, -4.09620e-02],\n",
              "       [ 1.04849e+01, -4.21130e-01],\n",
              "       [ 5.64290e+00,  5.49980e-01],\n",
              "       [ 1.67650e+00, -1.67690e-01],\n",
              "       [ 2.13750e+00,  9.44370e-01],\n",
              "       [ 2.81270e+00,  4.86620e-01],\n",
              "       [ 5.55800e-01, -2.91550e+00],\n",
              "       [ 1.21380e-01,  1.14350e+00],\n",
              "       [-3.28630e+00, -4.84480e+00],\n",
              "       [ 9.01620e+00, -1.22430e-01],\n",
              "       [ 6.67790e+00,  1.74980e-01],\n",
              "       [ 6.86040e-01, -5.51860e-02],\n",
              "       [-6.25780e-01, -2.85730e+00],\n",
              "       [ 7.66590e+00,  7.23260e-01],\n",
              "       [ 5.11240e-01,  5.09900e-01],\n",
              "       [ 4.42650e-02, -1.56050e-01],\n",
              "       [-8.18570e-01, -1.87840e+00],\n",
              "       [ 5.59920e+00, -4.71560e-01],\n",
              "       [-3.52880e+00, -4.76720e+00],\n",
              "       [-6.20640e-01, -1.71290e+00],\n",
              "       [ 6.76610e-01, -6.67970e+00],\n",
              "       [ 4.04830e+00,  9.03000e-01],\n",
              "       [ 3.82380e+00, -8.16820e-01],\n",
              "       [-2.16210e-01, -3.63450e+00],\n",
              "       [ 1.19590e+00, -6.46130e-01],\n",
              "       [ 2.04160e+00,  1.20040e+00],\n",
              "       [ 1.48550e+00,  1.11890e+00],\n",
              "       [ 1.27980e+00,  1.04140e+00],\n",
              "       [ 1.03315e+01,  9.81870e-01],\n",
              "       [ 1.55573e+01, -1.41820e-01],\n",
              "       [-1.35750e+00, -2.58190e+00],\n",
              "       [-1.22560e+00, -2.66210e+00],\n",
              "       [ 7.88860e-01, -7.81900e-01],\n",
              "       [-7.91200e-02, -2.12030e+00],\n",
              "       [ 5.28040e+00,  4.12910e-01],\n",
              "       [ 2.21290e+00,  3.08170e-01],\n",
              "       [ 2.25660e+00,  2.16250e+00],\n",
              "       [ 1.58400e+00,  7.11620e-01],\n",
              "       [ 1.56773e+01, -6.61650e-01],\n",
              "       [-2.64110e+00,  1.10330e-01],\n",
              "       [ 2.90440e+00,  1.10330e-01],\n",
              "       [ 4.84770e+00,  1.43700e+00],\n",
              "       [-1.97020e+00, -3.43920e+00],\n",
              "       [ 4.18700e-01, -2.17840e+00],\n",
              "       [ 8.59980e-01, -5.33360e+00],\n",
              "       [ 5.65060e+00,  1.95670e-01],\n",
              "       [ 2.43570e+00,  4.98260e-01],\n",
              "       [-1.92130e+00, -3.33320e+00],\n",
              "       [ 2.58650e+00, -5.47850e-01],\n",
              "       [ 9.37270e+00, -8.59490e-01],\n",
              "       [-4.47380e+00, -4.04830e+00],\n",
              "       [ 2.32350e+00,  6.63650e-02],\n",
              "       [ 7.08060e+00,  1.03100e+00],\n",
              "       [ 9.06940e+00, -9.82330e-01],\n",
              "       [ 6.88610e-01,  6.34030e-01],\n",
              "       [ 4.02600e+00,  5.51270e-01],\n",
              "       [-1.21530e+00,  3.21100e-01],\n",
              "       [-4.03010e-01,  4.49120e-01],\n",
              "       [-1.82190e+00, -2.94520e+00],\n",
              "       [ 7.53820e+00,  7.84030e-01],\n",
              "       [ 3.89490e+00,  7.77570e-01],\n",
              "       [-3.64610e+00, -3.06030e+00],\n",
              "       [ 4.82540e+00, -4.19840e-01],\n",
              "       [ 5.58540e+00,  1.30390e+00],\n",
              "       [-3.28280e+00, -6.17680e-01],\n",
              "       [ 3.45530e+00, -2.51740e-01],\n",
              "       [ 6.28630e-01,  1.11890e+00],\n",
              "       [-4.35820e+00, -4.74010e+00],\n",
              "       [ 2.11610e+00,  6.13340e-01],\n",
              "       [-3.27940e+00, -1.20090e+00],\n",
              "       [ 9.13440e-03, -3.70300e+00],\n",
              "       [ 5.80220e+00,  3.15930e-01],\n",
              "       [ 4.42650e-02, -4.49830e+00],\n",
              "       [-1.15360e+00,  1.56510e+00],\n",
              "       [ 2.19920e+00,  4.84030e-01],\n",
              "       [ 1.34727e+01, -2.62710e+00],\n",
              "       [ 5.75510e-01,  4.19380e-01],\n",
              "       [ 2.11350e+00,  3.50840e-01],\n",
              "       [-3.28460e-01, -1.37940e-01],\n",
              "       [ 1.92590e+00, -3.74580e-01],\n",
              "       [ 2.96180e+00, -4.49580e-01],\n",
              "       [ 2.90180e-01, -2.19530e+00],\n",
              "       [-3.44050e+00, -3.42760e+00],\n",
              "       [-8.42610e-02, -1.74530e+00],\n",
              "       [ 4.34650e+00,  7.86620e-01],\n",
              "       [-2.23240e+00, -6.52590e-01],\n",
              "       [-1.32840e+00, -3.30210e+00],\n",
              "       [ 1.70480e+00,  1.10080e+00],\n",
              "       [-4.43790e+00, -4.37410e+00],\n",
              "       [ 1.00958e+01, -1.01470e+00]])"
            ]
          },
          "metadata": {},
          "execution_count": 62
        }
      ]
    },
    {
      "cell_type": "code",
      "source": [
        "X_test.shape"
      ],
      "metadata": {
        "colab": {
          "base_uri": "https://localhost:8080/"
        },
        "id": "vED2HO-YGpR5",
        "outputId": "b1398de7-8dd6-4336-81a5-8c57d917f58f"
      },
      "execution_count": 63,
      "outputs": [
        {
          "output_type": "execute_result",
          "data": {
            "text/plain": [
              "(275, 2)"
            ]
          },
          "metadata": {},
          "execution_count": 63
        }
      ]
    },
    {
      "cell_type": "code",
      "source": [
        "from sklearn.preprocessing import StandardScaler\n",
        "scaler=StandardScaler()"
      ],
      "metadata": {
        "id": "D_nrLzs-Gs0a"
      },
      "execution_count": 64,
      "outputs": []
    },
    {
      "cell_type": "code",
      "source": [
        "X_train = scaler.fit_transform(X_train)\n",
        "X_train"
      ],
      "metadata": {
        "colab": {
          "base_uri": "https://localhost:8080/"
        },
        "id": "T4vnhjThHQyh",
        "outputId": "ea58f798-1441-4449-c06f-60c313252e06"
      },
      "execution_count": 65,
      "outputs": [
        {
          "output_type": "execute_result",
          "data": {
            "text/plain": [
              "array([[-1.28847298, -1.19773631],\n",
              "       [-0.48727008,  0.54012961],\n",
              "       [-0.52682588,  0.3477803 ],\n",
              "       ...,\n",
              "       [ 0.19051281,  0.79578881],\n",
              "       [-0.93166982, -0.31326185],\n",
              "       [ 0.67802992,  0.98083693]])"
            ]
          },
          "metadata": {},
          "execution_count": 65
        }
      ]
    },
    {
      "cell_type": "code",
      "source": [
        "np.sqrt(X_train.shape[0])"
      ],
      "metadata": {
        "colab": {
          "base_uri": "https://localhost:8080/"
        },
        "id": "QmBGCDrdHtzK",
        "outputId": "727e4377-5c06-4fd1-e016-760d05b7de48"
      },
      "execution_count": 68,
      "outputs": [
        {
          "output_type": "execute_result",
          "data": {
            "text/plain": [
              "33.12099032335839"
            ]
          },
          "metadata": {},
          "execution_count": 68
        }
      ]
    },
    {
      "cell_type": "code",
      "source": [
        "k=33"
      ],
      "metadata": {
        "id": "Q-lCQiOwIx7g"
      },
      "execution_count": 67,
      "outputs": []
    },
    {
      "cell_type": "code",
      "source": [
        "from sklearn.neighbors import KNeighborsClassifier\n",
        "knn=KNeighborsClassifier(n_neighbors=k)"
      ],
      "metadata": {
        "id": "VYseoUF2I2FR"
      },
      "execution_count": 66,
      "outputs": []
    },
    {
      "cell_type": "code",
      "source": [],
      "metadata": {
        "id": "sE5NRyiiJLE7"
      },
      "execution_count": null,
      "outputs": []
    },
    {
      "cell_type": "markdown",
      "source": [
        "#Train our model"
      ],
      "metadata": {
        "id": "DfmrodwmJM3p"
      }
    },
    {
      "cell_type": "code",
      "source": [
        "knn.fit(X_train,y_train)"
      ],
      "metadata": {
        "colab": {
          "base_uri": "https://localhost:8080/",
          "height": 74
        },
        "id": "b2mZUp-mJOmW",
        "outputId": "30f0ab59-e124-4a2e-f437-b22c8aec8719"
      },
      "execution_count": 70,
      "outputs": [
        {
          "output_type": "execute_result",
          "data": {
            "text/plain": [
              "KNeighborsClassifier(n_neighbors=28)"
            ],
            "text/html": [
              "<style>#sk-container-id-1 {color: black;}#sk-container-id-1 pre{padding: 0;}#sk-container-id-1 div.sk-toggleable {background-color: white;}#sk-container-id-1 label.sk-toggleable__label {cursor: pointer;display: block;width: 100%;margin-bottom: 0;padding: 0.3em;box-sizing: border-box;text-align: center;}#sk-container-id-1 label.sk-toggleable__label-arrow:before {content: \"▸\";float: left;margin-right: 0.25em;color: #696969;}#sk-container-id-1 label.sk-toggleable__label-arrow:hover:before {color: black;}#sk-container-id-1 div.sk-estimator:hover label.sk-toggleable__label-arrow:before {color: black;}#sk-container-id-1 div.sk-toggleable__content {max-height: 0;max-width: 0;overflow: hidden;text-align: left;background-color: #f0f8ff;}#sk-container-id-1 div.sk-toggleable__content pre {margin: 0.2em;color: black;border-radius: 0.25em;background-color: #f0f8ff;}#sk-container-id-1 input.sk-toggleable__control:checked~div.sk-toggleable__content {max-height: 200px;max-width: 100%;overflow: auto;}#sk-container-id-1 input.sk-toggleable__control:checked~label.sk-toggleable__label-arrow:before {content: \"▾\";}#sk-container-id-1 div.sk-estimator input.sk-toggleable__control:checked~label.sk-toggleable__label {background-color: #d4ebff;}#sk-container-id-1 div.sk-label input.sk-toggleable__control:checked~label.sk-toggleable__label {background-color: #d4ebff;}#sk-container-id-1 input.sk-hidden--visually {border: 0;clip: rect(1px 1px 1px 1px);clip: rect(1px, 1px, 1px, 1px);height: 1px;margin: -1px;overflow: hidden;padding: 0;position: absolute;width: 1px;}#sk-container-id-1 div.sk-estimator {font-family: monospace;background-color: #f0f8ff;border: 1px dotted black;border-radius: 0.25em;box-sizing: border-box;margin-bottom: 0.5em;}#sk-container-id-1 div.sk-estimator:hover {background-color: #d4ebff;}#sk-container-id-1 div.sk-parallel-item::after {content: \"\";width: 100%;border-bottom: 1px solid gray;flex-grow: 1;}#sk-container-id-1 div.sk-label:hover label.sk-toggleable__label {background-color: #d4ebff;}#sk-container-id-1 div.sk-serial::before {content: \"\";position: absolute;border-left: 1px solid gray;box-sizing: border-box;top: 0;bottom: 0;left: 50%;z-index: 0;}#sk-container-id-1 div.sk-serial {display: flex;flex-direction: column;align-items: center;background-color: white;padding-right: 0.2em;padding-left: 0.2em;position: relative;}#sk-container-id-1 div.sk-item {position: relative;z-index: 1;}#sk-container-id-1 div.sk-parallel {display: flex;align-items: stretch;justify-content: center;background-color: white;position: relative;}#sk-container-id-1 div.sk-item::before, #sk-container-id-1 div.sk-parallel-item::before {content: \"\";position: absolute;border-left: 1px solid gray;box-sizing: border-box;top: 0;bottom: 0;left: 50%;z-index: -1;}#sk-container-id-1 div.sk-parallel-item {display: flex;flex-direction: column;z-index: 1;position: relative;background-color: white;}#sk-container-id-1 div.sk-parallel-item:first-child::after {align-self: flex-end;width: 50%;}#sk-container-id-1 div.sk-parallel-item:last-child::after {align-self: flex-start;width: 50%;}#sk-container-id-1 div.sk-parallel-item:only-child::after {width: 0;}#sk-container-id-1 div.sk-dashed-wrapped {border: 1px dashed gray;margin: 0 0.4em 0.5em 0.4em;box-sizing: border-box;padding-bottom: 0.4em;background-color: white;}#sk-container-id-1 div.sk-label label {font-family: monospace;font-weight: bold;display: inline-block;line-height: 1.2em;}#sk-container-id-1 div.sk-label-container {text-align: center;}#sk-container-id-1 div.sk-container {/* jupyter's `normalize.less` sets `[hidden] { display: none; }` but bootstrap.min.css set `[hidden] { display: none !important; }` so we also need the `!important` here to be able to override the default hidden behavior on the sphinx rendered scikit-learn.org. See: https://github.com/scikit-learn/scikit-learn/issues/21755 */display: inline-block !important;position: relative;}#sk-container-id-1 div.sk-text-repr-fallback {display: none;}</style><div id=\"sk-container-id-1\" class=\"sk-top-container\"><div class=\"sk-text-repr-fallback\"><pre>KNeighborsClassifier(n_neighbors=28)</pre><b>In a Jupyter environment, please rerun this cell to show the HTML representation or trust the notebook. <br />On GitHub, the HTML representation is unable to render, please try loading this page with nbviewer.org.</b></div><div class=\"sk-container\" hidden><div class=\"sk-item\"><div class=\"sk-estimator sk-toggleable\"><input class=\"sk-toggleable__control sk-hidden--visually\" id=\"sk-estimator-id-1\" type=\"checkbox\" checked><label for=\"sk-estimator-id-1\" class=\"sk-toggleable__label sk-toggleable__label-arrow\">KNeighborsClassifier</label><div class=\"sk-toggleable__content\"><pre>KNeighborsClassifier(n_neighbors=28)</pre></div></div></div></div></div>"
            ]
          },
          "metadata": {},
          "execution_count": 70
        }
      ]
    },
    {
      "cell_type": "code",
      "source": [
        "y_pred=knn.predict(X_test)\n"
      ],
      "metadata": {
        "id": "RU2vnBYrJUQ7"
      },
      "execution_count": 71,
      "outputs": []
    },
    {
      "cell_type": "code",
      "source": [
        "y_pred"
      ],
      "metadata": {
        "colab": {
          "base_uri": "https://localhost:8080/"
        },
        "id": "Pss0okKiJ0Ps",
        "outputId": "d245515b-ebc9-4108-8472-95fdcfcd77a8"
      },
      "execution_count": 72,
      "outputs": [
        {
          "output_type": "execute_result",
          "data": {
            "text/plain": [
              "array([1, 0, 1, 1, 1, 0, 0, 0, 0, 1, 0, 1, 1, 1, 0, 0, 1, 1, 0, 1, 0, 0,\n",
              "       0, 1, 1, 1, 0, 1, 1, 1, 1, 1, 1, 1, 1, 1, 0, 0, 1, 1, 1, 1, 1, 0,\n",
              "       1, 0, 1, 1, 0, 1, 1, 1, 1, 1, 1, 1, 1, 0, 1, 1, 1, 1, 1, 1, 0, 1,\n",
              "       0, 1, 1, 1, 0, 1, 1, 1, 1, 0, 1, 0, 1, 0, 0, 0, 0, 1, 0, 0, 1, 1,\n",
              "       0, 1, 1, 0, 1, 1, 1, 1, 0, 1, 1, 1, 0, 1, 0, 1, 0, 1, 0, 0, 1, 1,\n",
              "       0, 1, 1, 0, 1, 1, 0, 0, 1, 1, 0, 0, 1, 0, 1, 0, 1, 0, 1, 0, 1, 0,\n",
              "       1, 0, 1, 0, 0, 1, 0, 0, 1, 1, 1, 0, 0, 1, 1, 1, 0, 1, 1, 0, 1, 1,\n",
              "       1, 1, 0, 0, 0, 0, 1, 1, 0, 1, 0, 1, 1, 1, 1, 1, 1, 1, 1, 1, 0, 1,\n",
              "       1, 1, 0, 1, 0, 0, 1, 0, 0, 1, 1, 1, 1, 1, 1, 0, 0, 0, 1, 1, 0, 1,\n",
              "       1, 0, 0, 0, 1, 0, 1, 1, 1, 1, 1, 0, 1, 0, 1, 1, 1, 0, 0, 0, 1, 1,\n",
              "       1, 1, 0, 1, 1, 1, 1, 0, 0, 1, 1, 1, 0, 1, 1, 0, 1, 1, 1, 0, 1, 0,\n",
              "       1, 0, 1, 1, 0, 1, 1, 1, 1, 0, 0, 1, 1, 1, 1, 1, 0, 1, 1, 0, 1, 0,\n",
              "       1, 1, 0, 0, 0, 1, 1, 0, 1, 0, 1])"
            ]
          },
          "metadata": {},
          "execution_count": 72
        }
      ]
    },
    {
      "cell_type": "code",
      "source": [
        "y_pred.shape"
      ],
      "metadata": {
        "colab": {
          "base_uri": "https://localhost:8080/"
        },
        "id": "Xs8vb8doK-2t",
        "outputId": "92a2341e-52f5-468d-b9d7-25f9feb9a7e3"
      },
      "execution_count": 73,
      "outputs": [
        {
          "output_type": "execute_result",
          "data": {
            "text/plain": [
              "(275,)"
            ]
          },
          "metadata": {},
          "execution_count": 73
        }
      ]
    },
    {
      "cell_type": "code",
      "source": [
        "y_test.shape"
      ],
      "metadata": {
        "colab": {
          "base_uri": "https://localhost:8080/"
        },
        "id": "n1nlxzvCLDDv",
        "outputId": "7f1b27de-daba-459c-e2cc-a1a82f4f5c28"
      },
      "execution_count": 74,
      "outputs": [
        {
          "output_type": "execute_result",
          "data": {
            "text/plain": [
              "(275,)"
            ]
          },
          "metadata": {},
          "execution_count": 74
        }
      ]
    },
    {
      "cell_type": "code",
      "source": [
        "from sklearn.metrics import accuracy_score\n",
        "accuracy_score(y_test,y_pred)"
      ],
      "metadata": {
        "colab": {
          "base_uri": "https://localhost:8080/"
        },
        "id": "5IEKJNxvLGWC",
        "outputId": "b9a5d7f8-bdae-4ce4-b384-c92f5ced15b8"
      },
      "execution_count": 75,
      "outputs": [
        {
          "output_type": "execute_result",
          "data": {
            "text/plain": [
              "0.4909090909090909"
            ]
          },
          "metadata": {},
          "execution_count": 75
        }
      ]
    },
    {
      "cell_type": "code",
      "source": [
        "from sklearn.metrics import confusion_matrix\n",
        "confusion_matrix(y_test,y_pred)"
      ],
      "metadata": {
        "colab": {
          "base_uri": "https://localhost:8080/"
        },
        "id": "2C5D3IAjLbW7",
        "outputId": "d2f678a2-f644-4995-f74c-dd89a0e02976"
      },
      "execution_count": 76,
      "outputs": [
        {
          "output_type": "execute_result",
          "data": {
            "text/plain": [
              "array([[56, 94],\n",
              "       [46, 79]])"
            ]
          },
          "metadata": {},
          "execution_count": 76
        }
      ]
    },
    {
      "cell_type": "code",
      "source": [
        "# 2nd Method"
      ],
      "metadata": {
        "id": "dyrOVi4mLrSC"
      },
      "execution_count": 77,
      "outputs": []
    },
    {
      "cell_type": "code",
      "source": [
        "accuracy=[]\n",
        "\n",
        "for i in range(1,25):\n",
        "  knn= KNeighborsClassifier(n_neighbors=i)\n",
        "  knn.fit(X_train,y_train)\n",
        "  accuracy.append(accuracy_score(y_test,knn.predict(X_test)))\n",
        ""
      ],
      "metadata": {
        "id": "_iZ33wsML04Q"
      },
      "execution_count": 78,
      "outputs": []
    },
    {
      "cell_type": "code",
      "source": [
        "accuracy"
      ],
      "metadata": {
        "colab": {
          "base_uri": "https://localhost:8080/"
        },
        "id": "-MvOEfA4Mo8U",
        "outputId": "201244c7-7a80-4efd-da11-b646dfc327ef"
      },
      "execution_count": 79,
      "outputs": [
        {
          "output_type": "execute_result",
          "data": {
            "text/plain": [
              "[0.5054545454545455,\n",
              " 0.5018181818181818,\n",
              " 0.5127272727272727,\n",
              " 0.5054545454545455,\n",
              " 0.4909090909090909,\n",
              " 0.5054545454545455,\n",
              " 0.48,\n",
              " 0.5018181818181818,\n",
              " 0.509090909090909,\n",
              " 0.509090909090909,\n",
              " 0.5054545454545455,\n",
              " 0.5018181818181818,\n",
              " 0.49818181818181817,\n",
              " 0.5054545454545455,\n",
              " 0.5054545454545455,\n",
              " 0.49818181818181817,\n",
              " 0.4909090909090909,\n",
              " 0.48727272727272725,\n",
              " 0.4909090909090909,\n",
              " 0.48727272727272725,\n",
              " 0.49818181818181817,\n",
              " 0.49818181818181817,\n",
              " 0.4909090909090909,\n",
              " 0.48727272727272725]"
            ]
          },
          "metadata": {},
          "execution_count": 79
        }
      ]
    },
    {
      "cell_type": "code",
      "source": [
        "len(accuracy)"
      ],
      "metadata": {
        "colab": {
          "base_uri": "https://localhost:8080/"
        },
        "id": "177SlUVsMq8j",
        "outputId": "5d48cb29-cf21-419c-966e-3092e6a1d1f8"
      },
      "execution_count": 80,
      "outputs": [
        {
          "output_type": "execute_result",
          "data": {
            "text/plain": [
              "24"
            ]
          },
          "metadata": {},
          "execution_count": 80
        }
      ]
    },
    {
      "cell_type": "code",
      "source": [
        "plt.plot(range(1,25), accuracy)"
      ],
      "metadata": {
        "colab": {
          "base_uri": "https://localhost:8080/",
          "height": 447
        },
        "id": "rUZ8-LKpMur2",
        "outputId": "6106eb98-dea5-4d37-ae0c-f8ac6f3770ee"
      },
      "execution_count": 83,
      "outputs": [
        {
          "output_type": "execute_result",
          "data": {
            "text/plain": [
              "[<matplotlib.lines.Line2D at 0x78f4df7a26e0>]"
            ]
          },
          "metadata": {},
          "execution_count": 83
        },
        {
          "output_type": "display_data",
          "data": {
            "text/plain": [
              "<Figure size 640x480 with 1 Axes>"
            ],
            "image/png": "[encoded data removed]"
          },
          "metadata": {}
        }
      ]
    },
    {
      "cell_type": "code",
      "source": [
        "import numpy as np\n",
        "from sklearn.model_selection import train_test_split\n",
        "from sklearn.neighbors import KNeighborsClassifier\n",
        "from sklearn.datasets import make_classification\n",
        "from sklearn.metrics import accuracy_score\n",
        "\n"
      ],
      "metadata": {
        "id": "JZD74zolM2PX"
      },
      "execution_count": 86,
      "outputs": []
    },
    {
      "cell_type": "code",
      "source": [
        "knn=KNeighborsClassifier(n_neighbors=11)\n",
        "knn.fit(X_train,y_train)"
      ],
      "metadata": {
        "colab": {
          "base_uri": "https://localhost:8080/",
          "height": 74
        },
        "id": "sTBk2CTyNSMR",
        "outputId": "ce94a097-0f0c-42b7-ab72-2427ef69fe0d"
      },
      "execution_count": 88,
      "outputs": [
        {
          "output_type": "execute_result",
          "data": {
            "text/plain": [
              "KNeighborsClassifier(n_neighbors=11)"
            ],
            "text/html": [
              "<style>#sk-container-id-3 {color: black;}#sk-container-id-3 pre{padding: 0;}#sk-container-id-3 div.sk-toggleable {background-color: white;}#sk-container-id-3 label.sk-toggleable__label {cursor: pointer;display: block;width: 100%;margin-bottom: 0;padding: 0.3em;box-sizing: border-box;text-align: center;}#sk-container-id-3 label.sk-toggleable__label-arrow:before {content: \"▸\";float: left;margin-right: 0.25em;color: #696969;}#sk-container-id-3 label.sk-toggleable__label-arrow:hover:before {color: black;}#sk-container-id-3 div.sk-estimator:hover label.sk-toggleable__label-arrow:before {color: black;}#sk-container-id-3 div.sk-toggleable__content {max-height: 0;max-width: 0;overflow: hidden;text-align: left;background-color: #f0f8ff;}#sk-container-id-3 div.sk-toggleable__content pre {margin: 0.2em;color: black;border-radius: 0.25em;background-color: #f0f8ff;}#sk-container-id-3 input.sk-toggleable__control:checked~div.sk-toggleable__content {max-height: 200px;max-width: 100%;overflow: auto;}#sk-container-id-3 input.sk-toggleable__control:checked~label.sk-toggleable__label-arrow:before {content: \"▾\";}#sk-container-id-3 div.sk-estimator input.sk-toggleable__control:checked~label.sk-toggleable__label {background-color: #d4ebff;}#sk-container-id-3 div.sk-label input.sk-toggleable__control:checked~label.sk-toggleable__label {background-color: #d4ebff;}#sk-container-id-3 input.sk-hidden--visually {border: 0;clip: rect(1px 1px 1px 1px);clip: rect(1px, 1px, 1px, 1px);height: 1px;margin: -1px;overflow: hidden;padding: 0;position: absolute;width: 1px;}#sk-container-id-3 div.sk-estimator {font-family: monospace;background-color: #f0f8ff;border: 1px dotted black;border-radius: 0.25em;box-sizing: border-box;margin-bottom: 0.5em;}#sk-container-id-3 div.sk-estimator:hover {background-color: #d4ebff;}#sk-container-id-3 div.sk-parallel-item::after {content: \"\";width: 100%;border-bottom: 1px solid gray;flex-grow: 1;}#sk-container-id-3 div.sk-label:hover label.sk-toggleable__label {background-color: #d4ebff;}#sk-container-id-3 div.sk-serial::before {content: \"\";position: absolute;border-left: 1px solid gray;box-sizing: border-box;top: 0;bottom: 0;left: 50%;z-index: 0;}#sk-container-id-3 div.sk-serial {display: flex;flex-direction: column;align-items: center;background-color: white;padding-right: 0.2em;padding-left: 0.2em;position: relative;}#sk-container-id-3 div.sk-item {position: relative;z-index: 1;}#sk-container-id-3 div.sk-parallel {display: flex;align-items: stretch;justify-content: center;background-color: white;position: relative;}#sk-container-id-3 div.sk-item::before, #sk-container-id-3 div.sk-parallel-item::before {content: \"\";position: absolute;border-left: 1px solid gray;box-sizing: border-box;top: 0;bottom: 0;left: 50%;z-index: -1;}#sk-container-id-3 div.sk-parallel-item {display: flex;flex-direction: column;z-index: 1;position: relative;background-color: white;}#sk-container-id-3 div.sk-parallel-item:first-child::after {align-self: flex-end;width: 50%;}#sk-container-id-3 div.sk-parallel-item:last-child::after {align-self: flex-start;width: 50%;}#sk-container-id-3 div.sk-parallel-item:only-child::after {width: 0;}#sk-container-id-3 div.sk-dashed-wrapped {border: 1px dashed gray;margin: 0 0.4em 0.5em 0.4em;box-sizing: border-box;padding-bottom: 0.4em;background-color: white;}#sk-container-id-3 div.sk-label label {font-family: monospace;font-weight: bold;display: inline-block;line-height: 1.2em;}#sk-container-id-3 div.sk-label-container {text-align: center;}#sk-container-id-3 div.sk-container {/* jupyter's `normalize.less` sets `[hidden] { display: none; }` but bootstrap.min.css set `[hidden] { display: none !important; }` so we also need the `!important` here to be able to override the default hidden behavior on the sphinx rendered scikit-learn.org. See: https://github.com/scikit-learn/scikit-learn/issues/21755 */display: inline-block !important;position: relative;}#sk-container-id-3 div.sk-text-repr-fallback {display: none;}</style><div id=\"sk-container-id-3\" class=\"sk-top-container\"><div class=\"sk-text-repr-fallback\"><pre>KNeighborsClassifier(n_neighbors=11)</pre><b>In a Jupyter environment, please rerun this cell to show the HTML representation or trust the notebook. <br />On GitHub, the HTML representation is unable to render, please try loading this page with nbviewer.org.</b></div><div class=\"sk-container\" hidden><div class=\"sk-item\"><div class=\"sk-estimator sk-toggleable\"><input class=\"sk-toggleable__control sk-hidden--visually\" id=\"sk-estimator-id-3\" type=\"checkbox\" checked><label for=\"sk-estimator-id-3\" class=\"sk-toggleable__label sk-toggleable__label-arrow\">KNeighborsClassifier</label><div class=\"sk-toggleable__content\"><pre>KNeighborsClassifier(n_neighbors=11)</pre></div></div></div></div></div>"
            ]
          },
          "metadata": {},
          "execution_count": 88
        }
      ]
    },
    {
      "cell_type": "code",
      "source": [
        "y_pred=knn.predict(X_test)"
      ],
      "metadata": {
        "id": "jrzDnVwMOT-C"
      },
      "execution_count": 89,
      "outputs": []
    },
    {
      "cell_type": "code",
      "source": [
        "accuracy_score(y_test,y_pred)"
      ],
      "metadata": {
        "colab": {
          "base_uri": "https://localhost:8080/"
        },
        "id": "vpoZgR5ZObhZ",
        "outputId": "3cc42ab1-5477-4c11-c8c1-197ad9114979"
      },
      "execution_count": 90,
      "outputs": [
        {
          "output_type": "execute_result",
          "data": {
            "text/plain": [
              "0.5054545454545455"
            ]
          },
          "metadata": {},
          "execution_count": 90
        }
      ]
    },
    {
      "cell_type": "code",
      "source": [
        "##def predict_output():\n",
        "  #age=int(input(\"Enter the age\"))\n",
        "  #salary=int(input(\"Enter the salary\"))\n",
        "  #X_new=np.array([[age],[salary]]).reshape(1,2)\n",
        "  #X_new=scaler.transform(X_new)\n",
        "  # return knn.predict(X_new)"
      ],
      "metadata": {
        "id": "TGLtrLQNOgqj"
      },
      "execution_count": 101,
      "outputs": []
    },
    {
      "cell_type": "code",
      "source": [
        "# predict_output()\n"
      ],
      "metadata": {
        "id": "356-FgI4PWCL"
      },
      "execution_count": 102,
      "outputs": []
    },
    {
      "cell_type": "code",
      "source": [],
      "metadata": {
        "id": "eCR7o3LIPY97"
      },
      "execution_count": 103,
      "outputs": []
    },
    {
      "cell_type": "markdown",
      "source": [
        "# Decision boundary"
      ],
      "metadata": {
        "id": "gPfuCP1oU9FL"
      }
    },
    {
      "cell_type": "code",
      "source": [
        "\n"
      ],
      "metadata": {
        "id": "rg34yJLLT6wu"
      },
      "execution_count": null,
      "outputs": []
    }
  ]
}